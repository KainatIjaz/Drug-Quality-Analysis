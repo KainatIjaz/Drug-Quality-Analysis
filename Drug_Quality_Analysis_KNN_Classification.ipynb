{
 "cells": [
  {
   "cell_type": "code",
   "execution_count": 2,
   "id": "54c568a6-dbaf-4bf8-9591-550a2e017bde",
   "metadata": {},
   "outputs": [],
   "source": [
    "import pandas as pd\n",
    "from matplotlib import pyplot as plt\n",
    "import seaborn as sns"
   ]
  },
  {
   "cell_type": "code",
   "execution_count": 3,
   "id": "27a05401-9aa1-46fc-b947-6aa6274ba1e7",
   "metadata": {},
   "outputs": [],
   "source": [
    "df=pd.read_csv(\"drugLibTrain_raw.csv\")"
   ]
  },
  {
   "cell_type": "code",
   "execution_count": 4,
   "id": "1a99f0f7-dcd5-49cd-94d7-db033780db83",
   "metadata": {},
   "outputs": [
    {
     "data": {
      "text/html": [
       "<div>\n",
       "<style scoped>\n",
       "    .dataframe tbody tr th:only-of-type {\n",
       "        vertical-align: middle;\n",
       "    }\n",
       "\n",
       "    .dataframe tbody tr th {\n",
       "        vertical-align: top;\n",
       "    }\n",
       "\n",
       "    .dataframe thead th {\n",
       "        text-align: right;\n",
       "    }\n",
       "</style>\n",
       "<table border=\"1\" class=\"dataframe\">\n",
       "  <thead>\n",
       "    <tr style=\"text-align: right;\">\n",
       "      <th></th>\n",
       "      <th>Unnamed: 0</th>\n",
       "      <th>urlDrugName</th>\n",
       "      <th>rating</th>\n",
       "      <th>effectiveness</th>\n",
       "      <th>sideEffects</th>\n",
       "      <th>condition</th>\n",
       "      <th>benefitsReview</th>\n",
       "      <th>sideEffectsReview</th>\n",
       "      <th>commentsReview</th>\n",
       "    </tr>\n",
       "  </thead>\n",
       "  <tbody>\n",
       "    <tr>\n",
       "      <th>0</th>\n",
       "      <td>2202</td>\n",
       "      <td>enalapril</td>\n",
       "      <td>4</td>\n",
       "      <td>Highly Effective</td>\n",
       "      <td>Mild Side Effects</td>\n",
       "      <td>management of congestive heart failure</td>\n",
       "      <td>slowed the progression of left ventricular dys...</td>\n",
       "      <td>cough, hypotension , proteinuria, impotence , ...</td>\n",
       "      <td>monitor blood pressure , weight and asses for ...</td>\n",
       "    </tr>\n",
       "    <tr>\n",
       "      <th>1</th>\n",
       "      <td>3117</td>\n",
       "      <td>ortho-tri-cyclen</td>\n",
       "      <td>1</td>\n",
       "      <td>Highly Effective</td>\n",
       "      <td>Severe Side Effects</td>\n",
       "      <td>birth prevention</td>\n",
       "      <td>Although this type of birth control has more c...</td>\n",
       "      <td>Heavy Cycle, Cramps, Hot Flashes, Fatigue, Lon...</td>\n",
       "      <td>I Hate This Birth Control, I Would Not Suggest...</td>\n",
       "    </tr>\n",
       "    <tr>\n",
       "      <th>2</th>\n",
       "      <td>1146</td>\n",
       "      <td>ponstel</td>\n",
       "      <td>10</td>\n",
       "      <td>Highly Effective</td>\n",
       "      <td>No Side Effects</td>\n",
       "      <td>menstrual cramps</td>\n",
       "      <td>I was used to having cramps so badly that they...</td>\n",
       "      <td>Heavier bleeding and clotting than normal.</td>\n",
       "      <td>I took 2 pills at the onset of my menstrual cr...</td>\n",
       "    </tr>\n",
       "    <tr>\n",
       "      <th>3</th>\n",
       "      <td>3947</td>\n",
       "      <td>prilosec</td>\n",
       "      <td>3</td>\n",
       "      <td>Marginally Effective</td>\n",
       "      <td>Mild Side Effects</td>\n",
       "      <td>acid reflux</td>\n",
       "      <td>The acid reflux went away for a few months aft...</td>\n",
       "      <td>Constipation, dry mouth and some mild dizzines...</td>\n",
       "      <td>I was given Prilosec prescription at a dose of...</td>\n",
       "    </tr>\n",
       "    <tr>\n",
       "      <th>4</th>\n",
       "      <td>1951</td>\n",
       "      <td>lyrica</td>\n",
       "      <td>2</td>\n",
       "      <td>Marginally Effective</td>\n",
       "      <td>Severe Side Effects</td>\n",
       "      <td>fibromyalgia</td>\n",
       "      <td>I think that the Lyrica was starting to help w...</td>\n",
       "      <td>I felt extremely drugged and dopey.  Could not...</td>\n",
       "      <td>See above</td>\n",
       "    </tr>\n",
       "  </tbody>\n",
       "</table>\n",
       "</div>"
      ],
      "text/plain": [
       "   Unnamed: 0       urlDrugName  rating         effectiveness  \\\n",
       "0        2202         enalapril       4      Highly Effective   \n",
       "1        3117  ortho-tri-cyclen       1      Highly Effective   \n",
       "2        1146           ponstel      10      Highly Effective   \n",
       "3        3947          prilosec       3  Marginally Effective   \n",
       "4        1951            lyrica       2  Marginally Effective   \n",
       "\n",
       "           sideEffects                               condition  \\\n",
       "0    Mild Side Effects  management of congestive heart failure   \n",
       "1  Severe Side Effects                        birth prevention   \n",
       "2      No Side Effects                        menstrual cramps   \n",
       "3    Mild Side Effects                             acid reflux   \n",
       "4  Severe Side Effects                            fibromyalgia   \n",
       "\n",
       "                                      benefitsReview  \\\n",
       "0  slowed the progression of left ventricular dys...   \n",
       "1  Although this type of birth control has more c...   \n",
       "2  I was used to having cramps so badly that they...   \n",
       "3  The acid reflux went away for a few months aft...   \n",
       "4  I think that the Lyrica was starting to help w...   \n",
       "\n",
       "                                   sideEffectsReview  \\\n",
       "0  cough, hypotension , proteinuria, impotence , ...   \n",
       "1  Heavy Cycle, Cramps, Hot Flashes, Fatigue, Lon...   \n",
       "2         Heavier bleeding and clotting than normal.   \n",
       "3  Constipation, dry mouth and some mild dizzines...   \n",
       "4  I felt extremely drugged and dopey.  Could not...   \n",
       "\n",
       "                                      commentsReview  \n",
       "0  monitor blood pressure , weight and asses for ...  \n",
       "1  I Hate This Birth Control, I Would Not Suggest...  \n",
       "2  I took 2 pills at the onset of my menstrual cr...  \n",
       "3  I was given Prilosec prescription at a dose of...  \n",
       "4                                          See above  "
      ]
     },
     "execution_count": 4,
     "metadata": {},
     "output_type": "execute_result"
    }
   ],
   "source": [
    "df.head()"
   ]
  },
  {
   "cell_type": "code",
   "execution_count": 5,
   "id": "f8275f9f-66a7-41be-94e1-eff3b208712c",
   "metadata": {},
   "outputs": [
    {
     "data": {
      "text/plain": [
       "Index(['Unnamed: 0', 'urlDrugName', 'rating', 'effectiveness', 'sideEffects',\n",
       "       'condition', 'benefitsReview', 'sideEffectsReview', 'commentsReview'],\n",
       "      dtype='object')"
      ]
     },
     "execution_count": 5,
     "metadata": {},
     "output_type": "execute_result"
    }
   ],
   "source": [
    "df.columns"
   ]
  },
  {
   "cell_type": "code",
   "execution_count": 6,
   "id": "41542b87-9b82-4719-9269-691a60320eb9",
   "metadata": {},
   "outputs": [
    {
     "name": "stdout",
     "output_type": "stream",
     "text": [
      "<class 'pandas.core.frame.DataFrame'>\n",
      "RangeIndex: 3107 entries, 0 to 3106\n",
      "Data columns (total 9 columns):\n",
      " #   Column             Non-Null Count  Dtype \n",
      "---  ------             --------------  ----- \n",
      " 0   Unnamed: 0         3107 non-null   int64 \n",
      " 1   urlDrugName        3107 non-null   object\n",
      " 2   rating             3107 non-null   int64 \n",
      " 3   effectiveness      3107 non-null   object\n",
      " 4   sideEffects        3107 non-null   object\n",
      " 5   condition          3106 non-null   object\n",
      " 6   benefitsReview     3089 non-null   object\n",
      " 7   sideEffectsReview  3032 non-null   object\n",
      " 8   commentsReview     3095 non-null   object\n",
      "dtypes: int64(2), object(7)\n",
      "memory usage: 218.6+ KB\n"
     ]
    }
   ],
   "source": [
    "df.info()"
   ]
  },
  {
   "cell_type": "code",
   "execution_count": 7,
   "id": "08d6f741-335f-464b-957b-b27762a2a77e",
   "metadata": {},
   "outputs": [
    {
     "data": {
      "text/html": [
       "<div>\n",
       "<style scoped>\n",
       "    .dataframe tbody tr th:only-of-type {\n",
       "        vertical-align: middle;\n",
       "    }\n",
       "\n",
       "    .dataframe tbody tr th {\n",
       "        vertical-align: top;\n",
       "    }\n",
       "\n",
       "    .dataframe thead th {\n",
       "        text-align: right;\n",
       "    }\n",
       "</style>\n",
       "<table border=\"1\" class=\"dataframe\">\n",
       "  <thead>\n",
       "    <tr style=\"text-align: right;\">\n",
       "      <th></th>\n",
       "      <th>Unnamed: 0</th>\n",
       "      <th>rating</th>\n",
       "    </tr>\n",
       "  </thead>\n",
       "  <tbody>\n",
       "    <tr>\n",
       "      <th>count</th>\n",
       "      <td>3107.000000</td>\n",
       "      <td>3107.000000</td>\n",
       "    </tr>\n",
       "    <tr>\n",
       "      <th>mean</th>\n",
       "      <td>2080.607016</td>\n",
       "      <td>7.006115</td>\n",
       "    </tr>\n",
       "    <tr>\n",
       "      <th>std</th>\n",
       "      <td>1187.998828</td>\n",
       "      <td>2.937582</td>\n",
       "    </tr>\n",
       "    <tr>\n",
       "      <th>min</th>\n",
       "      <td>0.000000</td>\n",
       "      <td>1.000000</td>\n",
       "    </tr>\n",
       "    <tr>\n",
       "      <th>25%</th>\n",
       "      <td>1062.500000</td>\n",
       "      <td>5.000000</td>\n",
       "    </tr>\n",
       "    <tr>\n",
       "      <th>50%</th>\n",
       "      <td>2092.000000</td>\n",
       "      <td>8.000000</td>\n",
       "    </tr>\n",
       "    <tr>\n",
       "      <th>75%</th>\n",
       "      <td>3092.500000</td>\n",
       "      <td>9.000000</td>\n",
       "    </tr>\n",
       "    <tr>\n",
       "      <th>max</th>\n",
       "      <td>4161.000000</td>\n",
       "      <td>10.000000</td>\n",
       "    </tr>\n",
       "  </tbody>\n",
       "</table>\n",
       "</div>"
      ],
      "text/plain": [
       "        Unnamed: 0       rating\n",
       "count  3107.000000  3107.000000\n",
       "mean   2080.607016     7.006115\n",
       "std    1187.998828     2.937582\n",
       "min       0.000000     1.000000\n",
       "25%    1062.500000     5.000000\n",
       "50%    2092.000000     8.000000\n",
       "75%    3092.500000     9.000000\n",
       "max    4161.000000    10.000000"
      ]
     },
     "execution_count": 7,
     "metadata": {},
     "output_type": "execute_result"
    }
   ],
   "source": [
    "df.describe()"
   ]
  },
  {
   "cell_type": "code",
   "execution_count": 8,
   "id": "9643cf5a-1c52-436b-8f2c-79550c331698",
   "metadata": {},
   "outputs": [
    {
     "data": {
      "text/plain": [
       "array(['Highly Effective', 'Marginally Effective', 'Ineffective',\n",
       "       'Considerably Effective', 'Moderately Effective'], dtype=object)"
      ]
     },
     "execution_count": 8,
     "metadata": {},
     "output_type": "execute_result"
    }
   ],
   "source": [
    "df[\"effectiveness\"].unique()"
   ]
  },
  {
   "cell_type": "code",
   "execution_count": 9,
   "id": "db29546b-7920-44cd-b1db-246431136810",
   "metadata": {},
   "outputs": [
    {
     "data": {
      "text/plain": [
       "array(['Mild Side Effects', 'Severe Side Effects', 'No Side Effects',\n",
       "       'Extremely Severe Side Effects', 'Moderate Side Effects'],\n",
       "      dtype=object)"
      ]
     },
     "execution_count": 9,
     "metadata": {},
     "output_type": "execute_result"
    }
   ],
   "source": [
    "df[\"sideEffects\"].unique()"
   ]
  },
  {
   "cell_type": "code",
   "execution_count": 14,
   "id": "988116b3-cfbb-4468-bee7-7eb5d064738d",
   "metadata": {},
   "outputs": [
    {
     "data": {
      "image/png": "[encoded data removed]",
      "text/plain": [
       "<Figure size 1000x600 with 1 Axes>"
      ]
     },
     "metadata": {},
     "output_type": "display_data"
    }
   ],
   "source": [
    "import seaborn as sns\n",
    "import matplotlib.pyplot as plt\n",
    "\n",
    "effectiveness_order = [\n",
    "    'Ineffective',\n",
    "    'Marginally Effective',\n",
    "    'Moderately Effective',\n",
    "    'Considerably Effective',\n",
    "    'Highly Effective'\n",
    "]\n",
    "\n",
    "sideEffects_order = [\n",
    "    'No Side Effects',\n",
    "    'Mild Side Effects',\n",
    "    'Moderate Side Effects',\n",
    "    'Severe Side Effects',\n",
    "    'Extremely Severe Side Effects'\n",
    "]\n",
    "\n",
    "sideEffects_color = sns.light_palette(\"green\", len(sideEffects_order), reverse=False)\n",
    "\n",
    "data_bar1 = df.pivot_table(index='effectiveness', columns='sideEffects', values='commentsReview', aggfunc='count')\n",
    "data_bar1 = data_bar1.reindex(index=effectiveness_order, columns=sideEffects_order)\n",
    "\n",
    "ax = data_bar1.plot(kind='barh', stacked=True, color=sideEffects_color, figsize=(10, 6))\n",
    "\n",
    "plt.title('Effectiveness vs. Side Effects (Review Counts)', fontsize=14)\n",
    "plt.ylabel('Effectiveness', fontsize=12)\n",
    "plt.xlabel('Number of Reviews', fontsize=12)\n",
    "\n",
    "handles, labels = ax.get_legend_handles_labels()\n",
    "ax.legend(handles, labels, title='Side Effects', bbox_to_anchor=(1, 1.02), loc='upper left')\n",
    "\n",
    "plt.show()\n"
   ]
  },
  {
   "cell_type": "code",
   "execution_count": 10,
   "id": "222ea779-158d-4e14-abf0-a6436b5a0e47",
   "metadata": {},
   "outputs": [],
   "source": [
    "\n",
    "df=df.drop(columns=['Unnamed: 0', 'benefitsReview', 'sideEffectsReview', 'commentsReview','condition','urlDrugName'])"
   ]
  },
  {
   "cell_type": "code",
   "execution_count": 11,
   "id": "2aa65418-17af-4b17-8e33-a5dc1a59b8c7",
   "metadata": {},
   "outputs": [
    {
     "data": {
      "text/html": [
       "<div>\n",
       "<style scoped>\n",
       "    .dataframe tbody tr th:only-of-type {\n",
       "        vertical-align: middle;\n",
       "    }\n",
       "\n",
       "    .dataframe tbody tr th {\n",
       "        vertical-align: top;\n",
       "    }\n",
       "\n",
       "    .dataframe thead th {\n",
       "        text-align: right;\n",
       "    }\n",
       "</style>\n",
       "<table border=\"1\" class=\"dataframe\">\n",
       "  <thead>\n",
       "    <tr style=\"text-align: right;\">\n",
       "      <th></th>\n",
       "      <th>rating</th>\n",
       "      <th>effectiveness</th>\n",
       "      <th>sideEffects</th>\n",
       "    </tr>\n",
       "  </thead>\n",
       "  <tbody>\n",
       "    <tr>\n",
       "      <th>0</th>\n",
       "      <td>4</td>\n",
       "      <td>Highly Effective</td>\n",
       "      <td>Mild Side Effects</td>\n",
       "    </tr>\n",
       "    <tr>\n",
       "      <th>1</th>\n",
       "      <td>1</td>\n",
       "      <td>Highly Effective</td>\n",
       "      <td>Severe Side Effects</td>\n",
       "    </tr>\n",
       "    <tr>\n",
       "      <th>2</th>\n",
       "      <td>10</td>\n",
       "      <td>Highly Effective</td>\n",
       "      <td>No Side Effects</td>\n",
       "    </tr>\n",
       "    <tr>\n",
       "      <th>3</th>\n",
       "      <td>3</td>\n",
       "      <td>Marginally Effective</td>\n",
       "      <td>Mild Side Effects</td>\n",
       "    </tr>\n",
       "    <tr>\n",
       "      <th>4</th>\n",
       "      <td>2</td>\n",
       "      <td>Marginally Effective</td>\n",
       "      <td>Severe Side Effects</td>\n",
       "    </tr>\n",
       "  </tbody>\n",
       "</table>\n",
       "</div>"
      ],
      "text/plain": [
       "   rating         effectiveness          sideEffects\n",
       "0       4      Highly Effective    Mild Side Effects\n",
       "1       1      Highly Effective  Severe Side Effects\n",
       "2      10      Highly Effective      No Side Effects\n",
       "3       3  Marginally Effective    Mild Side Effects\n",
       "4       2  Marginally Effective  Severe Side Effects"
      ]
     },
     "execution_count": 11,
     "metadata": {},
     "output_type": "execute_result"
    }
   ],
   "source": [
    "df.head()"
   ]
  },
  {
   "cell_type": "code",
   "execution_count": 12,
   "id": "2b487524-2733-4817-9c27-4f19ae2e529c",
   "metadata": {},
   "outputs": [],
   "source": [
    "df.replace(['Ineffective','Marginally Effective','Moderately Effective','Considerably Effective','Highly Effective'],[1,2,3,4,5],inplace=True)"
   ]
  },
  {
   "cell_type": "code",
   "execution_count": 13,
   "id": "dd16c39b-fd06-4616-883c-b8c4f56696a5",
   "metadata": {},
   "outputs": [],
   "source": [
    "df.replace(['No Side Effects','Mild Side Effects','Moderate Side Effects', 'Severe Side Effects', \n",
    "       'Extremely Severe Side Effects'],[1,2,3,4,5],inplace=True)"
   ]
  },
  {
   "cell_type": "code",
   "execution_count": 14,
   "id": "97768330-fe3c-4f45-a5b3-8035e01cf46c",
   "metadata": {},
   "outputs": [
    {
     "data": {
      "text/plain": [
       "<Axes: xlabel='effectiveness', ylabel='rating'>"
      ]
     },
     "execution_count": 14,
     "metadata": {},
     "output_type": "execute_result"
    },
    {
     "data": {
      "image/png": "[encoded data removed]",
      "text/plain": [
       "<Figure size 640x480 with 1 Axes>"
      ]
     },
     "metadata": {},
     "output_type": "display_data"
    }
   ],
   "source": [
    "sns.barplot(data=df, x=\"effectiveness\", y=\"rating\",color='r')"
   ]
  },
  {
   "cell_type": "code",
   "execution_count": 15,
   "id": "f9f117e7-2892-47ca-bedb-da42953decd0",
   "metadata": {},
   "outputs": [
    {
     "data": {
      "text/html": [
       "<div>\n",
       "<style scoped>\n",
       "    .dataframe tbody tr th:only-of-type {\n",
       "        vertical-align: middle;\n",
       "    }\n",
       "\n",
       "    .dataframe tbody tr th {\n",
       "        vertical-align: top;\n",
       "    }\n",
       "\n",
       "    .dataframe thead th {\n",
       "        text-align: right;\n",
       "    }\n",
       "</style>\n",
       "<table border=\"1\" class=\"dataframe\">\n",
       "  <thead>\n",
       "    <tr style=\"text-align: right;\">\n",
       "      <th></th>\n",
       "      <th>rating</th>\n",
       "      <th>effectiveness</th>\n",
       "      <th>sideEffects</th>\n",
       "    </tr>\n",
       "  </thead>\n",
       "  <tbody>\n",
       "    <tr>\n",
       "      <th>0</th>\n",
       "      <td>4</td>\n",
       "      <td>5</td>\n",
       "      <td>2</td>\n",
       "    </tr>\n",
       "    <tr>\n",
       "      <th>1</th>\n",
       "      <td>1</td>\n",
       "      <td>5</td>\n",
       "      <td>4</td>\n",
       "    </tr>\n",
       "    <tr>\n",
       "      <th>2</th>\n",
       "      <td>10</td>\n",
       "      <td>5</td>\n",
       "      <td>1</td>\n",
       "    </tr>\n",
       "    <tr>\n",
       "      <th>3</th>\n",
       "      <td>3</td>\n",
       "      <td>2</td>\n",
       "      <td>2</td>\n",
       "    </tr>\n",
       "    <tr>\n",
       "      <th>4</th>\n",
       "      <td>2</td>\n",
       "      <td>2</td>\n",
       "      <td>4</td>\n",
       "    </tr>\n",
       "  </tbody>\n",
       "</table>\n",
       "</div>"
      ],
      "text/plain": [
       "   rating  effectiveness  sideEffects\n",
       "0       4              5            2\n",
       "1       1              5            4\n",
       "2      10              5            1\n",
       "3       3              2            2\n",
       "4       2              2            4"
      ]
     },
     "execution_count": 15,
     "metadata": {},
     "output_type": "execute_result"
    }
   ],
   "source": [
    "df.head()"
   ]
  },
  {
   "cell_type": "code",
   "execution_count": 16,
   "id": "6bbd41bd-c937-4530-83c9-0bef3e539ce0",
   "metadata": {},
   "outputs": [],
   "source": [
    "def classify_satisfaction(rating):\n",
    "    if 1 <= rating <= 2:\n",
    "        return 'never use again'\n",
    "    elif 3 <= rating <= 4:\n",
    "        return 'poor'\n",
    "    elif 5 <= rating <= 6:\n",
    "        return 'slightly satisfied'\n",
    "    elif 7 <= rating <= 8:\n",
    "        return 'satisfied'\n",
    "    elif 9 <= rating <= 10:\n",
    "        return 'highly satisfied'\n",
    "    else:\n",
    "        return 'unknown' \n",
    "df['customer_satisfaction'] = df['rating'].apply(classify_satisfaction)"
   ]
  },
  {
   "cell_type": "code",
   "execution_count": 17,
   "id": "7f78d38b-225b-47cd-a6ff-69df8d3e1d92",
   "metadata": {},
   "outputs": [],
   "source": [
    "def classify_review(rating):\n",
    "    if 1 <= rating <= 4:\n",
    "        return 'Negative'\n",
    "    elif 4 <= rating <= 6:\n",
    "        return 'Neutral'\n",
    "    else:\n",
    "        return 'Positive' \n",
    "df['customer_reviews'] = df['rating'].apply(classify_review)"
   ]
  },
  {
   "cell_type": "code",
   "execution_count": 20,
   "id": "5e739f5e-2bae-405d-a914-5ac9ac517d1c",
   "metadata": {},
   "outputs": [
    {
     "data": {
      "text/plain": [
       "customer_reviews\n",
       "Positive    2130\n",
       "Negative     661\n",
       "Neutral      316\n",
       "Name: count, dtype: int64"
      ]
     },
     "execution_count": 20,
     "metadata": {},
     "output_type": "execute_result"
    }
   ],
   "source": [
    "df['customer_reviews'].value_counts()"
   ]
  },
  {
   "cell_type": "code",
   "execution_count": 21,
   "id": "4713dd25-3c81-48b9-927e-b7f704b91400",
   "metadata": {},
   "outputs": [
    {
     "data": {
      "text/html": [
       "<div>\n",
       "<style scoped>\n",
       "    .dataframe tbody tr th:only-of-type {\n",
       "        vertical-align: middle;\n",
       "    }\n",
       "\n",
       "    .dataframe tbody tr th {\n",
       "        vertical-align: top;\n",
       "    }\n",
       "\n",
       "    .dataframe thead th {\n",
       "        text-align: right;\n",
       "    }\n",
       "</style>\n",
       "<table border=\"1\" class=\"dataframe\">\n",
       "  <thead>\n",
       "    <tr style=\"text-align: right;\">\n",
       "      <th></th>\n",
       "      <th>rating</th>\n",
       "      <th>effectiveness</th>\n",
       "      <th>sideEffects</th>\n",
       "      <th>customer_satisfaction</th>\n",
       "      <th>customer_reviews</th>\n",
       "    </tr>\n",
       "  </thead>\n",
       "  <tbody>\n",
       "    <tr>\n",
       "      <th>0</th>\n",
       "      <td>4</td>\n",
       "      <td>5</td>\n",
       "      <td>2</td>\n",
       "      <td>poor</td>\n",
       "      <td>Negative</td>\n",
       "    </tr>\n",
       "    <tr>\n",
       "      <th>1</th>\n",
       "      <td>1</td>\n",
       "      <td>5</td>\n",
       "      <td>4</td>\n",
       "      <td>never use again</td>\n",
       "      <td>Negative</td>\n",
       "    </tr>\n",
       "    <tr>\n",
       "      <th>2</th>\n",
       "      <td>10</td>\n",
       "      <td>5</td>\n",
       "      <td>1</td>\n",
       "      <td>highly satisfied</td>\n",
       "      <td>Positive</td>\n",
       "    </tr>\n",
       "    <tr>\n",
       "      <th>3</th>\n",
       "      <td>3</td>\n",
       "      <td>2</td>\n",
       "      <td>2</td>\n",
       "      <td>poor</td>\n",
       "      <td>Negative</td>\n",
       "    </tr>\n",
       "    <tr>\n",
       "      <th>4</th>\n",
       "      <td>2</td>\n",
       "      <td>2</td>\n",
       "      <td>4</td>\n",
       "      <td>never use again</td>\n",
       "      <td>Negative</td>\n",
       "    </tr>\n",
       "  </tbody>\n",
       "</table>\n",
       "</div>"
      ],
      "text/plain": [
       "   rating  effectiveness  sideEffects customer_satisfaction customer_reviews\n",
       "0       4              5            2                  poor         Negative\n",
       "1       1              5            4       never use again         Negative\n",
       "2      10              5            1      highly satisfied         Positive\n",
       "3       3              2            2                  poor         Negative\n",
       "4       2              2            4       never use again         Negative"
      ]
     },
     "execution_count": 21,
     "metadata": {},
     "output_type": "execute_result"
    }
   ],
   "source": [
    "df.head()"
   ]
  },
  {
   "cell_type": "code",
   "execution_count": 22,
   "id": "182f4431-ab38-4464-b7e6-7d3c16ae5825",
   "metadata": {},
   "outputs": [],
   "source": [
    "df.replace(['never use again','poor','slightly satisfied','satisfied','highly satisfied'],[1,2,3,4,5],inplace=True)"
   ]
  },
  {
   "cell_type": "code",
   "execution_count": 23,
   "id": "353c49a0-4a38-4bf7-ab2d-a6177100df5d",
   "metadata": {},
   "outputs": [],
   "source": [
    "df.replace(['Negative','Neutral','Positive'],[-1,0,1],inplace=True)"
   ]
  },
  {
   "cell_type": "code",
   "execution_count": 24,
   "id": "21ac6f49-8919-4199-a9a5-7d7cad4dcd91",
   "metadata": {},
   "outputs": [
    {
     "data": {
      "text/html": [
       "<div>\n",
       "<style scoped>\n",
       "    .dataframe tbody tr th:only-of-type {\n",
       "        vertical-align: middle;\n",
       "    }\n",
       "\n",
       "    .dataframe tbody tr th {\n",
       "        vertical-align: top;\n",
       "    }\n",
       "\n",
       "    .dataframe thead th {\n",
       "        text-align: right;\n",
       "    }\n",
       "</style>\n",
       "<table border=\"1\" class=\"dataframe\">\n",
       "  <thead>\n",
       "    <tr style=\"text-align: right;\">\n",
       "      <th></th>\n",
       "      <th>rating</th>\n",
       "      <th>effectiveness</th>\n",
       "      <th>sideEffects</th>\n",
       "      <th>customer_satisfaction</th>\n",
       "      <th>customer_reviews</th>\n",
       "    </tr>\n",
       "  </thead>\n",
       "  <tbody>\n",
       "    <tr>\n",
       "      <th>0</th>\n",
       "      <td>4</td>\n",
       "      <td>5</td>\n",
       "      <td>2</td>\n",
       "      <td>2</td>\n",
       "      <td>-1</td>\n",
       "    </tr>\n",
       "    <tr>\n",
       "      <th>1</th>\n",
       "      <td>1</td>\n",
       "      <td>5</td>\n",
       "      <td>4</td>\n",
       "      <td>1</td>\n",
       "      <td>-1</td>\n",
       "    </tr>\n",
       "    <tr>\n",
       "      <th>2</th>\n",
       "      <td>10</td>\n",
       "      <td>5</td>\n",
       "      <td>1</td>\n",
       "      <td>5</td>\n",
       "      <td>1</td>\n",
       "    </tr>\n",
       "    <tr>\n",
       "      <th>3</th>\n",
       "      <td>3</td>\n",
       "      <td>2</td>\n",
       "      <td>2</td>\n",
       "      <td>2</td>\n",
       "      <td>-1</td>\n",
       "    </tr>\n",
       "    <tr>\n",
       "      <th>4</th>\n",
       "      <td>2</td>\n",
       "      <td>2</td>\n",
       "      <td>4</td>\n",
       "      <td>1</td>\n",
       "      <td>-1</td>\n",
       "    </tr>\n",
       "  </tbody>\n",
       "</table>\n",
       "</div>"
      ],
      "text/plain": [
       "   rating  effectiveness  sideEffects  customer_satisfaction  customer_reviews\n",
       "0       4              5            2                      2                -1\n",
       "1       1              5            4                      1                -1\n",
       "2      10              5            1                      5                 1\n",
       "3       3              2            2                      2                -1\n",
       "4       2              2            4                      1                -1"
      ]
     },
     "execution_count": 24,
     "metadata": {},
     "output_type": "execute_result"
    }
   ],
   "source": [
    "df.head()"
   ]
  },
  {
   "cell_type": "code",
   "execution_count": 25,
   "id": "71694180-06e6-49f0-b6af-99332cc6d01c",
   "metadata": {},
   "outputs": [
    {
     "data": {
      "text/plain": [
       "array([[<Axes: title={'center': 'rating'}>,\n",
       "        <Axes: title={'center': 'effectiveness'}>],\n",
       "       [<Axes: title={'center': 'sideEffects'}>,\n",
       "        <Axes: title={'center': 'customer_satisfaction'}>],\n",
       "       [<Axes: title={'center': 'customer_reviews'}>, <Axes: >]],\n",
       "      dtype=object)"
      ]
     },
     "execution_count": 25,
     "metadata": {},
     "output_type": "execute_result"
    },
    {
     "data": {
      "image/png": "[encoded data removed]",
      "text/plain": [
       "<Figure size 1500x1500 with 6 Axes>"
      ]
     },
     "metadata": {},
     "output_type": "display_data"
    }
   ],
   "source": [
    "df.hist(figsize=(15, 15),color='pink')"
   ]
  },
  {
   "cell_type": "code",
   "execution_count": 252,
   "id": "f1def25b-c088-489b-80bf-9963d04f3bf5",
   "metadata": {},
   "outputs": [
    {
     "data": {
      "text/plain": [
       "<Axes: xlabel='effectiveness', ylabel='sideEffects'>"
      ]
     },
     "execution_count": 252,
     "metadata": {},
     "output_type": "execute_result"
    },
    {
     "data": {
      "image/png": "[encoded data removed]",
      "text/plain": [
       "<Figure size 640x480 with 1 Axes>"
      ]
     },
     "metadata": {},
     "output_type": "display_data"
    }
   ],
   "source": [
    "sns.barplot(data=df, x=\"effectiveness\", y=\"sideEffects\",color='brown')\n"
   ]
  },
  {
   "cell_type": "code",
   "execution_count": 26,
   "id": "ae0b0b53-33ba-4654-8527-9e497ff0d417",
   "metadata": {},
   "outputs": [
    {
     "data": {
      "image/png": "[encoded data removed]",
      "text/plain": [
       "<Figure size 640x480 with 2 Axes>"
      ]
     },
     "metadata": {},
     "output_type": "display_data"
    }
   ],
   "source": [
    "import seaborn as sns\n",
    "heatmap = sns.heatmap(df.corr(), annot=True, cmap='pink', cbar=True)"
   ]
  },
  {
   "cell_type": "code",
   "execution_count": 27,
   "id": "3e01cd6f-67a0-47ef-b797-5539f3443750",
   "metadata": {},
   "outputs": [],
   "source": [
    "from sklearn.neighbors import KNeighborsClassifier\n",
    "from sklearn.model_selection import train_test_split\n",
    "from sklearn.metrics import accuracy_score"
   ]
  },
  {
   "cell_type": "code",
   "execution_count": 28,
   "id": "0556fcbd-02d5-4421-b26a-7948e291a1f4",
   "metadata": {},
   "outputs": [],
   "source": [
    "X=df.drop('customer_satisfaction',axis=1)\n"
   ]
  },
  {
   "cell_type": "code",
   "execution_count": 29,
   "id": "964ab715-bb29-4e33-b94a-f0242e52e96b",
   "metadata": {},
   "outputs": [],
   "source": [
    "y=df[\"customer_satisfaction\"]"
   ]
  },
  {
   "cell_type": "code",
   "execution_count": 30,
   "id": "b3231dcb-6e05-46bb-bf3e-78ce578cbae7",
   "metadata": {},
   "outputs": [],
   "source": [
    "X_train,X_test,y_train,y_test=train_test_split(X,y,test_size=0.2,random_state=42)"
   ]
  },
  {
   "cell_type": "code",
   "execution_count": 31,
   "id": "ab0faaef-002f-4841-a2c9-fc761b75d527",
   "metadata": {},
   "outputs": [
    {
     "name": "stdout",
     "output_type": "stream",
     "text": [
      "1.0\n"
     ]
    }
   ],
   "source": [
    "\n",
    "k=5\n",
    "knn = KNeighborsClassifier(n_neighbors=k)\n",
    "\n",
    "knn.fit(X_train,y_train)\n",
    "y_pred=knn.predict(X_test)\n",
    "accuracy=accuracy_score(y_test,y_pred)\n",
    "print(accuracy)"
   ]
  },
  {
   "cell_type": "code",
   "execution_count": 32,
   "id": "1e745c06-a823-44bb-9c2b-77adebef2324",
   "metadata": {},
   "outputs": [
    {
     "data": {
      "text/html": [
       "<div>\n",
       "<style scoped>\n",
       "    .dataframe tbody tr th:only-of-type {\n",
       "        vertical-align: middle;\n",
       "    }\n",
       "\n",
       "    .dataframe tbody tr th {\n",
       "        vertical-align: top;\n",
       "    }\n",
       "\n",
       "    .dataframe thead th {\n",
       "        text-align: right;\n",
       "    }\n",
       "</style>\n",
       "<table border=\"1\" class=\"dataframe\">\n",
       "  <thead>\n",
       "    <tr style=\"text-align: right;\">\n",
       "      <th></th>\n",
       "      <th>Unnamed: 0</th>\n",
       "      <th>urlDrugName</th>\n",
       "      <th>rating</th>\n",
       "      <th>effectiveness</th>\n",
       "      <th>sideEffects</th>\n",
       "      <th>condition</th>\n",
       "      <th>benefitsReview</th>\n",
       "      <th>sideEffectsReview</th>\n",
       "      <th>commentsReview</th>\n",
       "    </tr>\n",
       "  </thead>\n",
       "  <tbody>\n",
       "    <tr>\n",
       "      <th>0</th>\n",
       "      <td>1366</td>\n",
       "      <td>biaxin</td>\n",
       "      <td>9</td>\n",
       "      <td>Considerably Effective</td>\n",
       "      <td>Mild Side Effects</td>\n",
       "      <td>sinus infection</td>\n",
       "      <td>The antibiotic may have destroyed bacteria cau...</td>\n",
       "      <td>Some back pain, some nauseau.</td>\n",
       "      <td>Took the antibiotics for 14 days. Sinus infect...</td>\n",
       "    </tr>\n",
       "    <tr>\n",
       "      <th>1</th>\n",
       "      <td>3724</td>\n",
       "      <td>lamictal</td>\n",
       "      <td>9</td>\n",
       "      <td>Highly Effective</td>\n",
       "      <td>Mild Side Effects</td>\n",
       "      <td>bipolar disorder</td>\n",
       "      <td>Lamictal stabilized my serious mood swings. On...</td>\n",
       "      <td>Drowsiness, a bit of mental numbness. If you t...</td>\n",
       "      <td>Severe mood swings between hypomania and depre...</td>\n",
       "    </tr>\n",
       "    <tr>\n",
       "      <th>2</th>\n",
       "      <td>3824</td>\n",
       "      <td>depakene</td>\n",
       "      <td>4</td>\n",
       "      <td>Moderately Effective</td>\n",
       "      <td>Severe Side Effects</td>\n",
       "      <td>bipolar disorder</td>\n",
       "      <td>Initial benefits were comparable to the brand ...</td>\n",
       "      <td>Depakene has a very thin coating, which caused...</td>\n",
       "      <td>Depakote was prescribed to me by a Kaiser psyc...</td>\n",
       "    </tr>\n",
       "    <tr>\n",
       "      <th>3</th>\n",
       "      <td>969</td>\n",
       "      <td>sarafem</td>\n",
       "      <td>10</td>\n",
       "      <td>Highly Effective</td>\n",
       "      <td>No Side Effects</td>\n",
       "      <td>bi-polar / anxiety</td>\n",
       "      <td>It controlls my mood swings. It helps me think...</td>\n",
       "      <td>I didnt really notice any side effects.</td>\n",
       "      <td>This drug may not be for everyone but its wond...</td>\n",
       "    </tr>\n",
       "    <tr>\n",
       "      <th>4</th>\n",
       "      <td>696</td>\n",
       "      <td>accutane</td>\n",
       "      <td>10</td>\n",
       "      <td>Highly Effective</td>\n",
       "      <td>Mild Side Effects</td>\n",
       "      <td>nodular acne</td>\n",
       "      <td>Within one week of treatment superficial acne ...</td>\n",
       "      <td>Side effects included moderate to severe dry s...</td>\n",
       "      <td>Drug was taken in gelatin tablet at 0.5 mg per...</td>\n",
       "    </tr>\n",
       "  </tbody>\n",
       "</table>\n",
       "</div>"
      ],
      "text/plain": [
       "   Unnamed: 0 urlDrugName  rating           effectiveness  \\\n",
       "0        1366      biaxin       9  Considerably Effective   \n",
       "1        3724    lamictal       9        Highly Effective   \n",
       "2        3824    depakene       4    Moderately Effective   \n",
       "3         969     sarafem      10        Highly Effective   \n",
       "4         696    accutane      10        Highly Effective   \n",
       "\n",
       "           sideEffects           condition  \\\n",
       "0    Mild Side Effects     sinus infection   \n",
       "1    Mild Side Effects    bipolar disorder   \n",
       "2  Severe Side Effects    bipolar disorder   \n",
       "3      No Side Effects  bi-polar / anxiety   \n",
       "4    Mild Side Effects        nodular acne   \n",
       "\n",
       "                                      benefitsReview  \\\n",
       "0  The antibiotic may have destroyed bacteria cau...   \n",
       "1  Lamictal stabilized my serious mood swings. On...   \n",
       "2  Initial benefits were comparable to the brand ...   \n",
       "3  It controlls my mood swings. It helps me think...   \n",
       "4  Within one week of treatment superficial acne ...   \n",
       "\n",
       "                                   sideEffectsReview  \\\n",
       "0                      Some back pain, some nauseau.   \n",
       "1  Drowsiness, a bit of mental numbness. If you t...   \n",
       "2  Depakene has a very thin coating, which caused...   \n",
       "3            I didnt really notice any side effects.   \n",
       "4  Side effects included moderate to severe dry s...   \n",
       "\n",
       "                                      commentsReview  \n",
       "0  Took the antibiotics for 14 days. Sinus infect...  \n",
       "1  Severe mood swings between hypomania and depre...  \n",
       "2  Depakote was prescribed to me by a Kaiser psyc...  \n",
       "3  This drug may not be for everyone but its wond...  \n",
       "4  Drug was taken in gelatin tablet at 0.5 mg per...  "
      ]
     },
     "execution_count": 32,
     "metadata": {},
     "output_type": "execute_result"
    }
   ],
   "source": [
    "df2=pd.read_csv(\"drugLibTest_raw.csv\")\n",
    "df2.head()"
   ]
  },
  {
   "cell_type": "code",
   "execution_count": 33,
   "id": "23bda3c1-902c-46e2-a4fd-b56734997ec4",
   "metadata": {},
   "outputs": [
    {
     "data": {
      "text/plain": [
       "Index(['Unnamed: 0', 'urlDrugName', 'rating', 'effectiveness', 'sideEffects',\n",
       "       'condition', 'benefitsReview', 'sideEffectsReview', 'commentsReview'],\n",
       "      dtype='object')"
      ]
     },
     "execution_count": 33,
     "metadata": {},
     "output_type": "execute_result"
    }
   ],
   "source": [
    "df2.columns"
   ]
  },
  {
   "cell_type": "code",
   "execution_count": 34,
   "id": "8d3b6546-5cab-4b79-bf19-bfc6f4af652a",
   "metadata": {},
   "outputs": [
    {
     "data": {
      "text/plain": [
       "array(['Considerably Effective', 'Highly Effective',\n",
       "       'Moderately Effective', 'Marginally Effective', 'Ineffective'],\n",
       "      dtype=object)"
      ]
     },
     "execution_count": 34,
     "metadata": {},
     "output_type": "execute_result"
    }
   ],
   "source": [
    "df2[\"effectiveness\"].unique()"
   ]
  },
  {
   "cell_type": "code",
   "execution_count": 35,
   "id": "ae74c98e-5cdd-4af6-84e9-ed82dc44f766",
   "metadata": {},
   "outputs": [
    {
     "data": {
      "text/plain": [
       "array(['Mild Side Effects', 'Severe Side Effects', 'No Side Effects',\n",
       "       'Moderate Side Effects', 'Extremely Severe Side Effects'],\n",
       "      dtype=object)"
      ]
     },
     "execution_count": 35,
     "metadata": {},
     "output_type": "execute_result"
    }
   ],
   "source": [
    "df2[\"sideEffects\"].unique()"
   ]
  },
  {
   "cell_type": "code",
   "execution_count": 36,
   "id": "e64f961d-658a-4165-be81-dff2e5b66c95",
   "metadata": {},
   "outputs": [],
   "source": [
    "df2.replace(['Ineffective','Marginally Effective','Moderately Effective','Considerably Effective','Highly Effective'],[1,2,3,4,5],inplace=True)\n",
    "df2.replace(['No Side Effects','Mild Side Effects','Moderate Side Effects', 'Severe Side Effects', \n",
    "       'Extremely Severe Side Effects'],[1,2,3,4,5],inplace=True)"
   ]
  },
  {
   "cell_type": "code",
   "execution_count": 37,
   "id": "44a1a3c6-bad5-4d56-aaa4-c394718f8b92",
   "metadata": {},
   "outputs": [
    {
     "data": {
      "text/html": [
       "<div>\n",
       "<style scoped>\n",
       "    .dataframe tbody tr th:only-of-type {\n",
       "        vertical-align: middle;\n",
       "    }\n",
       "\n",
       "    .dataframe tbody tr th {\n",
       "        vertical-align: top;\n",
       "    }\n",
       "\n",
       "    .dataframe thead th {\n",
       "        text-align: right;\n",
       "    }\n",
       "</style>\n",
       "<table border=\"1\" class=\"dataframe\">\n",
       "  <thead>\n",
       "    <tr style=\"text-align: right;\">\n",
       "      <th></th>\n",
       "      <th>Unnamed: 0</th>\n",
       "      <th>urlDrugName</th>\n",
       "      <th>rating</th>\n",
       "      <th>effectiveness</th>\n",
       "      <th>sideEffects</th>\n",
       "      <th>condition</th>\n",
       "      <th>benefitsReview</th>\n",
       "      <th>sideEffectsReview</th>\n",
       "      <th>commentsReview</th>\n",
       "    </tr>\n",
       "  </thead>\n",
       "  <tbody>\n",
       "    <tr>\n",
       "      <th>0</th>\n",
       "      <td>1366</td>\n",
       "      <td>biaxin</td>\n",
       "      <td>9</td>\n",
       "      <td>4</td>\n",
       "      <td>2</td>\n",
       "      <td>sinus infection</td>\n",
       "      <td>The antibiotic may have destroyed bacteria cau...</td>\n",
       "      <td>Some back pain, some nauseau.</td>\n",
       "      <td>Took the antibiotics for 14 days. Sinus infect...</td>\n",
       "    </tr>\n",
       "    <tr>\n",
       "      <th>1</th>\n",
       "      <td>3724</td>\n",
       "      <td>lamictal</td>\n",
       "      <td>9</td>\n",
       "      <td>5</td>\n",
       "      <td>2</td>\n",
       "      <td>bipolar disorder</td>\n",
       "      <td>Lamictal stabilized my serious mood swings. On...</td>\n",
       "      <td>Drowsiness, a bit of mental numbness. If you t...</td>\n",
       "      <td>Severe mood swings between hypomania and depre...</td>\n",
       "    </tr>\n",
       "    <tr>\n",
       "      <th>2</th>\n",
       "      <td>3824</td>\n",
       "      <td>depakene</td>\n",
       "      <td>4</td>\n",
       "      <td>3</td>\n",
       "      <td>4</td>\n",
       "      <td>bipolar disorder</td>\n",
       "      <td>Initial benefits were comparable to the brand ...</td>\n",
       "      <td>Depakene has a very thin coating, which caused...</td>\n",
       "      <td>Depakote was prescribed to me by a Kaiser psyc...</td>\n",
       "    </tr>\n",
       "    <tr>\n",
       "      <th>3</th>\n",
       "      <td>969</td>\n",
       "      <td>sarafem</td>\n",
       "      <td>10</td>\n",
       "      <td>5</td>\n",
       "      <td>1</td>\n",
       "      <td>bi-polar / anxiety</td>\n",
       "      <td>It controlls my mood swings. It helps me think...</td>\n",
       "      <td>I didnt really notice any side effects.</td>\n",
       "      <td>This drug may not be for everyone but its wond...</td>\n",
       "    </tr>\n",
       "    <tr>\n",
       "      <th>4</th>\n",
       "      <td>696</td>\n",
       "      <td>accutane</td>\n",
       "      <td>10</td>\n",
       "      <td>5</td>\n",
       "      <td>2</td>\n",
       "      <td>nodular acne</td>\n",
       "      <td>Within one week of treatment superficial acne ...</td>\n",
       "      <td>Side effects included moderate to severe dry s...</td>\n",
       "      <td>Drug was taken in gelatin tablet at 0.5 mg per...</td>\n",
       "    </tr>\n",
       "  </tbody>\n",
       "</table>\n",
       "</div>"
      ],
      "text/plain": [
       "   Unnamed: 0 urlDrugName  rating  effectiveness  sideEffects  \\\n",
       "0        1366      biaxin       9              4            2   \n",
       "1        3724    lamictal       9              5            2   \n",
       "2        3824    depakene       4              3            4   \n",
       "3         969     sarafem      10              5            1   \n",
       "4         696    accutane      10              5            2   \n",
       "\n",
       "            condition                                     benefitsReview  \\\n",
       "0     sinus infection  The antibiotic may have destroyed bacteria cau...   \n",
       "1    bipolar disorder  Lamictal stabilized my serious mood swings. On...   \n",
       "2    bipolar disorder  Initial benefits were comparable to the brand ...   \n",
       "3  bi-polar / anxiety  It controlls my mood swings. It helps me think...   \n",
       "4        nodular acne  Within one week of treatment superficial acne ...   \n",
       "\n",
       "                                   sideEffectsReview  \\\n",
       "0                      Some back pain, some nauseau.   \n",
       "1  Drowsiness, a bit of mental numbness. If you t...   \n",
       "2  Depakene has a very thin coating, which caused...   \n",
       "3            I didnt really notice any side effects.   \n",
       "4  Side effects included moderate to severe dry s...   \n",
       "\n",
       "                                      commentsReview  \n",
       "0  Took the antibiotics for 14 days. Sinus infect...  \n",
       "1  Severe mood swings between hypomania and depre...  \n",
       "2  Depakote was prescribed to me by a Kaiser psyc...  \n",
       "3  This drug may not be for everyone but its wond...  \n",
       "4  Drug was taken in gelatin tablet at 0.5 mg per...  "
      ]
     },
     "execution_count": 37,
     "metadata": {},
     "output_type": "execute_result"
    }
   ],
   "source": [
    "df2.head()"
   ]
  },
  {
   "cell_type": "code",
   "execution_count": 38,
   "id": "ddb709ff-c24c-486a-87e6-81c4339ff1af",
   "metadata": {},
   "outputs": [],
   "source": [
    "def classify_satisfaction(rating):\n",
    "    if 1 <= rating <= 2:\n",
    "        return 'never use again'\n",
    "    elif 3 <= rating <= 4:\n",
    "        return 'poor'\n",
    "    elif 5 <= rating <= 6:\n",
    "        return 'slightly satisfied'\n",
    "    elif 7 <= rating <= 8:\n",
    "        return 'satisfied'\n",
    "    elif 9 <= rating <= 10:\n",
    "        return 'highly satisfied'\n",
    "    else:\n",
    "        return 'unknown' \n",
    "df2['customer_satisfaction'] = df2['rating'].apply(classify_satisfaction)"
   ]
  },
  {
   "cell_type": "code",
   "execution_count": 39,
   "id": "6eaea540-a398-434c-8594-8fb6e3ba7611",
   "metadata": {},
   "outputs": [],
   "source": [
    "def classify_review(rating):\n",
    "    if 1 <= rating <= 4:\n",
    "        return 'Negative'\n",
    "    elif 4 <= rating <= 6:\n",
    "        return 'Neutral'\n",
    "    else:\n",
    "        return 'Positive' \n",
    "df2['customer_reviews'] = df2['rating'].apply(classify_review)\n",
    "df2.replace(['Negative','Neutral','Positive'],[-1,0,1],inplace=True)"
   ]
  },
  {
   "cell_type": "code",
   "execution_count": 40,
   "id": "ae420014-44b2-463f-98ad-f37a650a795c",
   "metadata": {},
   "outputs": [
    {
     "data": {
      "text/html": [
       "<div>\n",
       "<style scoped>\n",
       "    .dataframe tbody tr th:only-of-type {\n",
       "        vertical-align: middle;\n",
       "    }\n",
       "\n",
       "    .dataframe tbody tr th {\n",
       "        vertical-align: top;\n",
       "    }\n",
       "\n",
       "    .dataframe thead th {\n",
       "        text-align: right;\n",
       "    }\n",
       "</style>\n",
       "<table border=\"1\" class=\"dataframe\">\n",
       "  <thead>\n",
       "    <tr style=\"text-align: right;\">\n",
       "      <th></th>\n",
       "      <th>Unnamed: 0</th>\n",
       "      <th>urlDrugName</th>\n",
       "      <th>rating</th>\n",
       "      <th>effectiveness</th>\n",
       "      <th>sideEffects</th>\n",
       "      <th>condition</th>\n",
       "      <th>benefitsReview</th>\n",
       "      <th>sideEffectsReview</th>\n",
       "      <th>commentsReview</th>\n",
       "      <th>customer_satisfaction</th>\n",
       "      <th>customer_reviews</th>\n",
       "    </tr>\n",
       "  </thead>\n",
       "  <tbody>\n",
       "    <tr>\n",
       "      <th>0</th>\n",
       "      <td>1366</td>\n",
       "      <td>biaxin</td>\n",
       "      <td>9</td>\n",
       "      <td>4</td>\n",
       "      <td>2</td>\n",
       "      <td>sinus infection</td>\n",
       "      <td>The antibiotic may have destroyed bacteria cau...</td>\n",
       "      <td>Some back pain, some nauseau.</td>\n",
       "      <td>Took the antibiotics for 14 days. Sinus infect...</td>\n",
       "      <td>highly satisfied</td>\n",
       "      <td>1</td>\n",
       "    </tr>\n",
       "    <tr>\n",
       "      <th>1</th>\n",
       "      <td>3724</td>\n",
       "      <td>lamictal</td>\n",
       "      <td>9</td>\n",
       "      <td>5</td>\n",
       "      <td>2</td>\n",
       "      <td>bipolar disorder</td>\n",
       "      <td>Lamictal stabilized my serious mood swings. On...</td>\n",
       "      <td>Drowsiness, a bit of mental numbness. If you t...</td>\n",
       "      <td>Severe mood swings between hypomania and depre...</td>\n",
       "      <td>highly satisfied</td>\n",
       "      <td>1</td>\n",
       "    </tr>\n",
       "    <tr>\n",
       "      <th>2</th>\n",
       "      <td>3824</td>\n",
       "      <td>depakene</td>\n",
       "      <td>4</td>\n",
       "      <td>3</td>\n",
       "      <td>4</td>\n",
       "      <td>bipolar disorder</td>\n",
       "      <td>Initial benefits were comparable to the brand ...</td>\n",
       "      <td>Depakene has a very thin coating, which caused...</td>\n",
       "      <td>Depakote was prescribed to me by a Kaiser psyc...</td>\n",
       "      <td>poor</td>\n",
       "      <td>-1</td>\n",
       "    </tr>\n",
       "    <tr>\n",
       "      <th>3</th>\n",
       "      <td>969</td>\n",
       "      <td>sarafem</td>\n",
       "      <td>10</td>\n",
       "      <td>5</td>\n",
       "      <td>1</td>\n",
       "      <td>bi-polar / anxiety</td>\n",
       "      <td>It controlls my mood swings. It helps me think...</td>\n",
       "      <td>I didnt really notice any side effects.</td>\n",
       "      <td>This drug may not be for everyone but its wond...</td>\n",
       "      <td>highly satisfied</td>\n",
       "      <td>1</td>\n",
       "    </tr>\n",
       "    <tr>\n",
       "      <th>4</th>\n",
       "      <td>696</td>\n",
       "      <td>accutane</td>\n",
       "      <td>10</td>\n",
       "      <td>5</td>\n",
       "      <td>2</td>\n",
       "      <td>nodular acne</td>\n",
       "      <td>Within one week of treatment superficial acne ...</td>\n",
       "      <td>Side effects included moderate to severe dry s...</td>\n",
       "      <td>Drug was taken in gelatin tablet at 0.5 mg per...</td>\n",
       "      <td>highly satisfied</td>\n",
       "      <td>1</td>\n",
       "    </tr>\n",
       "  </tbody>\n",
       "</table>\n",
       "</div>"
      ],
      "text/plain": [
       "   Unnamed: 0 urlDrugName  rating  effectiveness  sideEffects  \\\n",
       "0        1366      biaxin       9              4            2   \n",
       "1        3724    lamictal       9              5            2   \n",
       "2        3824    depakene       4              3            4   \n",
       "3         969     sarafem      10              5            1   \n",
       "4         696    accutane      10              5            2   \n",
       "\n",
       "            condition                                     benefitsReview  \\\n",
       "0     sinus infection  The antibiotic may have destroyed bacteria cau...   \n",
       "1    bipolar disorder  Lamictal stabilized my serious mood swings. On...   \n",
       "2    bipolar disorder  Initial benefits were comparable to the brand ...   \n",
       "3  bi-polar / anxiety  It controlls my mood swings. It helps me think...   \n",
       "4        nodular acne  Within one week of treatment superficial acne ...   \n",
       "\n",
       "                                   sideEffectsReview  \\\n",
       "0                      Some back pain, some nauseau.   \n",
       "1  Drowsiness, a bit of mental numbness. If you t...   \n",
       "2  Depakene has a very thin coating, which caused...   \n",
       "3            I didnt really notice any side effects.   \n",
       "4  Side effects included moderate to severe dry s...   \n",
       "\n",
       "                                      commentsReview customer_satisfaction  \\\n",
       "0  Took the antibiotics for 14 days. Sinus infect...      highly satisfied   \n",
       "1  Severe mood swings between hypomania and depre...      highly satisfied   \n",
       "2  Depakote was prescribed to me by a Kaiser psyc...                  poor   \n",
       "3  This drug may not be for everyone but its wond...      highly satisfied   \n",
       "4  Drug was taken in gelatin tablet at 0.5 mg per...      highly satisfied   \n",
       "\n",
       "   customer_reviews  \n",
       "0                 1  \n",
       "1                 1  \n",
       "2                -1  \n",
       "3                 1  \n",
       "4                 1  "
      ]
     },
     "execution_count": 40,
     "metadata": {},
     "output_type": "execute_result"
    }
   ],
   "source": [
    "df2.head()"
   ]
  },
  {
   "cell_type": "code",
   "execution_count": 41,
   "id": "4fdeeed1-cac5-4632-9038-483eed2d166d",
   "metadata": {},
   "outputs": [],
   "source": [
    "df2=df2.drop(columns=['Unnamed: 0', 'benefitsReview', 'sideEffectsReview', 'commentsReview','condition','urlDrugName'])"
   ]
  },
  {
   "cell_type": "code",
   "execution_count": 42,
   "id": "ada0a8a1-3767-44c6-a9b4-8c1147ebdc65",
   "metadata": {},
   "outputs": [
    {
     "data": {
      "text/html": [
       "<div>\n",
       "<style scoped>\n",
       "    .dataframe tbody tr th:only-of-type {\n",
       "        vertical-align: middle;\n",
       "    }\n",
       "\n",
       "    .dataframe tbody tr th {\n",
       "        vertical-align: top;\n",
       "    }\n",
       "\n",
       "    .dataframe thead th {\n",
       "        text-align: right;\n",
       "    }\n",
       "</style>\n",
       "<table border=\"1\" class=\"dataframe\">\n",
       "  <thead>\n",
       "    <tr style=\"text-align: right;\">\n",
       "      <th></th>\n",
       "      <th>rating</th>\n",
       "      <th>effectiveness</th>\n",
       "      <th>sideEffects</th>\n",
       "      <th>customer_satisfaction</th>\n",
       "      <th>customer_reviews</th>\n",
       "    </tr>\n",
       "  </thead>\n",
       "  <tbody>\n",
       "    <tr>\n",
       "      <th>0</th>\n",
       "      <td>9</td>\n",
       "      <td>4</td>\n",
       "      <td>2</td>\n",
       "      <td>highly satisfied</td>\n",
       "      <td>1</td>\n",
       "    </tr>\n",
       "    <tr>\n",
       "      <th>1</th>\n",
       "      <td>9</td>\n",
       "      <td>5</td>\n",
       "      <td>2</td>\n",
       "      <td>highly satisfied</td>\n",
       "      <td>1</td>\n",
       "    </tr>\n",
       "    <tr>\n",
       "      <th>2</th>\n",
       "      <td>4</td>\n",
       "      <td>3</td>\n",
       "      <td>4</td>\n",
       "      <td>poor</td>\n",
       "      <td>-1</td>\n",
       "    </tr>\n",
       "    <tr>\n",
       "      <th>3</th>\n",
       "      <td>10</td>\n",
       "      <td>5</td>\n",
       "      <td>1</td>\n",
       "      <td>highly satisfied</td>\n",
       "      <td>1</td>\n",
       "    </tr>\n",
       "    <tr>\n",
       "      <th>4</th>\n",
       "      <td>10</td>\n",
       "      <td>5</td>\n",
       "      <td>2</td>\n",
       "      <td>highly satisfied</td>\n",
       "      <td>1</td>\n",
       "    </tr>\n",
       "  </tbody>\n",
       "</table>\n",
       "</div>"
      ],
      "text/plain": [
       "   rating  effectiveness  sideEffects customer_satisfaction  customer_reviews\n",
       "0       9              4            2      highly satisfied                 1\n",
       "1       9              5            2      highly satisfied                 1\n",
       "2       4              3            4                  poor                -1\n",
       "3      10              5            1      highly satisfied                 1\n",
       "4      10              5            2      highly satisfied                 1"
      ]
     },
     "execution_count": 42,
     "metadata": {},
     "output_type": "execute_result"
    }
   ],
   "source": [
    "df2.head()"
   ]
  },
  {
   "cell_type": "code",
   "execution_count": 43,
   "id": "6bff10a6-4c80-4e1a-a219-83f001a1812e",
   "metadata": {},
   "outputs": [],
   "source": [
    "df2.replace(['never use again','poor','slightly satisfied','satisfied','highly satisfied'],[1,2,3,4,5],inplace=True)"
   ]
  },
  {
   "cell_type": "code",
   "execution_count": 44,
   "id": "f03e0ff7-ba62-4061-9248-46c2d2d7989f",
   "metadata": {},
   "outputs": [
    {
     "data": {
      "text/html": [
       "<div>\n",
       "<style scoped>\n",
       "    .dataframe tbody tr th:only-of-type {\n",
       "        vertical-align: middle;\n",
       "    }\n",
       "\n",
       "    .dataframe tbody tr th {\n",
       "        vertical-align: top;\n",
       "    }\n",
       "\n",
       "    .dataframe thead th {\n",
       "        text-align: right;\n",
       "    }\n",
       "</style>\n",
       "<table border=\"1\" class=\"dataframe\">\n",
       "  <thead>\n",
       "    <tr style=\"text-align: right;\">\n",
       "      <th></th>\n",
       "      <th>rating</th>\n",
       "      <th>effectiveness</th>\n",
       "      <th>sideEffects</th>\n",
       "      <th>customer_satisfaction</th>\n",
       "      <th>customer_reviews</th>\n",
       "    </tr>\n",
       "  </thead>\n",
       "  <tbody>\n",
       "    <tr>\n",
       "      <th>0</th>\n",
       "      <td>9</td>\n",
       "      <td>4</td>\n",
       "      <td>2</td>\n",
       "      <td>5</td>\n",
       "      <td>1</td>\n",
       "    </tr>\n",
       "    <tr>\n",
       "      <th>1</th>\n",
       "      <td>9</td>\n",
       "      <td>5</td>\n",
       "      <td>2</td>\n",
       "      <td>5</td>\n",
       "      <td>1</td>\n",
       "    </tr>\n",
       "    <tr>\n",
       "      <th>2</th>\n",
       "      <td>4</td>\n",
       "      <td>3</td>\n",
       "      <td>4</td>\n",
       "      <td>2</td>\n",
       "      <td>-1</td>\n",
       "    </tr>\n",
       "    <tr>\n",
       "      <th>3</th>\n",
       "      <td>10</td>\n",
       "      <td>5</td>\n",
       "      <td>1</td>\n",
       "      <td>5</td>\n",
       "      <td>1</td>\n",
       "    </tr>\n",
       "    <tr>\n",
       "      <th>4</th>\n",
       "      <td>10</td>\n",
       "      <td>5</td>\n",
       "      <td>2</td>\n",
       "      <td>5</td>\n",
       "      <td>1</td>\n",
       "    </tr>\n",
       "  </tbody>\n",
       "</table>\n",
       "</div>"
      ],
      "text/plain": [
       "   rating  effectiveness  sideEffects  customer_satisfaction  customer_reviews\n",
       "0       9              4            2                      5                 1\n",
       "1       9              5            2                      5                 1\n",
       "2       4              3            4                      2                -1\n",
       "3      10              5            1                      5                 1\n",
       "4      10              5            2                      5                 1"
      ]
     },
     "execution_count": 44,
     "metadata": {},
     "output_type": "execute_result"
    }
   ],
   "source": [
    "df2.head()"
   ]
  },
  {
   "cell_type": "code",
   "execution_count": 45,
   "id": "1b6d0956-1a72-4cba-bc53-b689d47c8299",
   "metadata": {},
   "outputs": [
    {
     "name": "stdout",
     "output_type": "stream",
     "text": [
      "1.0\n"
     ]
    }
   ],
   "source": [
    "X=df2.drop('customer_satisfaction',axis=1)\n",
    "y_test=df2[\"customer_satisfaction\"]\n",
    "X_test=X\n",
    "y_pred=knn.predict(X_test)\n",
    "accuracy=accuracy_score(y_test,y_pred)\n",
    "print(accuracy)"
   ]
  },
  {
   "cell_type": "code",
   "execution_count": 46,
   "id": "b884c691-6ec4-4068-b425-28fc9be847ca",
   "metadata": {},
   "outputs": [
    {
     "name": "stderr",
     "output_type": "stream",
     "text": [
      "No artists with labels found to put in legend.  Note that artists whose label start with an underscore are ignored when legend() is called with no argument.\n"
     ]
    },
    {
     "data": {
      "image/png": "[encoded data removed]",
      "text/plain": [
       "<Figure size 640x480 with 1 Axes>"
      ]
     },
     "metadata": {},
     "output_type": "display_data"
    }
   ],
   "source": [
    "plt.scatter(y_test,y_pred,color='orange',edgecolors='blue')\n",
    "plt.xlabel('y_test')\n",
    "plt.ylabel('predicted')\n",
    "plt.legend()\n",
    "plt.show()\n"
   ]
  },
  {
   "cell_type": "code",
   "execution_count": null,
   "id": "107422b9-7ba5-4f39-b1f1-a38829e17e69",
   "metadata": {},
   "outputs": [],
   "source": []
  }
 ],
 "metadata": {
  "kernelspec": {
   "display_name": "Python 3 (ipykernel)",
   "language": "python",
   "name": "python3"
  },
  "language_info": {
   "codemirror_mode": {
    "name": "ipython",
    "version": 3
   },
   "file_extension": ".py",
   "mimetype": "text/x-python",
   "name": "python",
   "nbconvert_exporter": "python",
   "pygments_lexer": "ipython3",
   "version": "3.11.7"
  }
 },
 "nbformat": 4,
 "nbformat_minor": 5
}
